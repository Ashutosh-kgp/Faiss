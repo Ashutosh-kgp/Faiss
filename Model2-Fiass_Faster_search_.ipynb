{
 "cells": [
  {
   "cell_type": "code",
   "execution_count": 1,
   "metadata": {
    "collapsed": true
   },
   "outputs": [],
   "source": [
    "import numpy as np\n",
    "import time\n",
    "import os\n",
    "import faiss\n"
   ]
  },
  {
   "cell_type": "code",
   "execution_count": 2,
   "metadata": {
    "collapsed": true
   },
   "outputs": [],
   "source": [
    "data_features=np.load(\"final_embeddings_top.npy\")\n"
   ]
  },
  {
   "cell_type": "code",
   "execution_count": 3,
   "metadata": {},
   "outputs": [
    {
     "data": {
      "text/plain": [
       "'/recsys-data/Modelling/ashutosh'"
      ]
     },
     "execution_count": 3,
     "metadata": {},
     "output_type": "execute_result"
    }
   ],
   "source": [
    "pwd"
   ]
  },
  {
   "cell_type": "code",
   "execution_count": 4,
   "metadata": {
    "collapsed": true
   },
   "outputs": [],
   "source": [
    "em500 =data_features[0:500]\n",
    "em1k =  data_features[0:1000]\n",
    "em2k = data_features[0:2000] \n",
    "em5k = data_features[0:5000] \n",
    "em10k =  data_features[0:1000]"
   ]
  },
  {
   "cell_type": "code",
   "execution_count": 5,
   "metadata": {
    "collapsed": true
   },
   "outputs": [],
   "source": [
    "em_dict = {'em500':em500,\n",
    "           'em1k':em1k,\n",
    "           'em2k':em2k,\n",
    "           'em5k':em5k,\n",
    "           'em10k':em10k}"
   ]
  },
  {
   "cell_type": "code",
   "execution_count": 6,
   "metadata": {},
   "outputs": [
    {
     "name": "stdout",
     "output_type": "stream",
     "text": [
      "Building search index and adding vectors to index\n",
      "a\n",
      "b\n",
      "[!] Saving the index to model2_em500_.index\n",
      "[!] Faiss building time = 0.265\n",
      "\n",
      "\n",
      "\n",
      "Building search index and adding vectors to index\n",
      "a\n",
      "b\n",
      "[!] Saving the index to model2_em1k_.index\n",
      "[!] Faiss building time = 0.059\n",
      "\n",
      "\n",
      "\n",
      "Building search index and adding vectors to index\n",
      "a\n",
      "b\n",
      "[!] Saving the index to model2_em2k_.index\n",
      "[!] Faiss building time = 0.094\n",
      "\n",
      "\n",
      "\n",
      "Building search index and adding vectors to index\n",
      "a\n",
      "b\n",
      "[!] Saving the index to model2_em5k_.index\n",
      "[!] Faiss building time = 0.243\n",
      "\n",
      "\n",
      "\n",
      "Building search index and adding vectors to index\n",
      "a\n",
      "b\n",
      "[!] Saving the index to model2_em10k_.index\n",
      "[!] Faiss building time = 0.209\n",
      "\n",
      "\n",
      "\n"
     ]
    }
   ],
   "source": [
    " \n",
    "os.chdir('/recsys-data/Modelling/ashutosh/fiass_files')\n",
    "nlist =100\n",
    "\n",
    "k =100\n",
    "d=2048 \n",
    "for results in em_dict.keys():\n",
    "    print(\"Building search index and adding vectors to index\")\n",
    "    start = time.time()\n",
    "    quantizer = faiss.IndexFlatL2(d)\n",
    "    print(\"a\")\n",
    "    index = faiss.IndexIVFFlat(quantizer, d, nlist,faiss.METRIC_L2)\n",
    "    print(\"b\")\n",
    "    assert not index.is_trained\n",
    "    index.train(em_dict[results])\n",
    "    assert index.is_trained\n",
    "   \n",
    "    index.add(em_dict[results]) \n",
    "   \n",
    "    file_name = 'model2_'+results+'_'+'.index'\n",
    "    print(\"[!] Saving the index to\",file_name)\n",
    "    faiss.write_index(index,file_name)\n",
    "    print('[!] Faiss building time = %.3f\\n\\n\\n'%(time.time()-start))"
   ]
  },
  {
   "cell_type": "code",
   "execution_count": 7,
   "metadata": {},
   "outputs": [
    {
     "name": "stdout",
     "output_type": "stream",
     "text": [
      "model2_em500_.index\n",
      "[[  2   8 464   4]]\n",
      "[[  0.      133.64337 216.89291 229.85953]]\n",
      "Execution time for = 0.07663\n",
      "\n",
      "\n",
      "model2_em1k_.index\n",
      "[[  2   8 914 517]]\n",
      "[[  0.      133.64337 202.28752 208.40193]]\n",
      "Execution time for = 0.00136\n",
      "\n",
      "\n",
      "model2_em2k_.index\n",
      "[[   2    8 1363  966]]\n",
      "[[  0.      133.64337 190.48993 213.63504]]\n",
      "Execution time for = 0.00102\n",
      "\n",
      "\n",
      "model2_em5k_.index\n",
      "[[   2 4254 3648 3185]]\n",
      "[[  0.      192.18214 196.00598 203.44588]]\n",
      "Execution time for = 0.00109\n",
      "\n",
      "\n",
      "model2_em10k_.index\n",
      "[[  2   8 914 517]]\n",
      "[[  0.      133.64337 202.28752 208.40193]]\n",
      "Execution time for = 0.00106\n",
      "\n",
      "\n"
     ]
    }
   ],
   "source": [
    "nProbe=1\n",
    "k=4\n",
    "xq=em500[2:3]\n",
    "for file in em_dict.keys():\n",
    "    print('model2_'+file+\"_\"+\".index\")\n",
    "    index=faiss.read_index('model2_'+file+\"_\"+\".index\")\n",
    "    start = time.time()\n",
    "    D,I =index.search(xq, k)\n",
    "    print (I)\n",
    "    print (D)\n",
    "    print('Execution time for = %.5f\\n\\n'%(time.time()-start))"
   ]
  },
  {
   "cell_type": "code",
   "execution_count": null,
   "metadata": {
    "collapsed": true
   },
   "outputs": [],
   "source": []
  },
  {
   "cell_type": "code",
   "execution_count": null,
   "metadata": {
    "collapsed": true
   },
   "outputs": [],
   "source": []
  }
 ],
 "metadata": {
  "kernelspec": {
   "display_name": "Python 3",
   "language": "python",
   "name": "python3"
  },
  "language_info": {
   "codemirror_mode": {
    "name": "ipython",
    "version": 3
   },
   "file_extension": ".py",
   "mimetype": "text/x-python",
   "name": "python",
   "nbconvert_exporter": "python",
   "pygments_lexer": "ipython3",
   "version": "3.6.3"
  }
 },
 "nbformat": 4,
 "nbformat_minor": 2
}
