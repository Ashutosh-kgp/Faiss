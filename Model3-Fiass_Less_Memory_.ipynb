{
 "cells": [
  {
   "cell_type": "code",
   "execution_count": 1,
   "metadata": {
    "collapsed": true
   },
   "outputs": [],
   "source": [
    "import numpy as np\n",
    "import time\n",
    "import os\n",
    "import faiss"
   ]
  },
  {
   "cell_type": "code",
   "execution_count": 2,
   "metadata": {
    "collapsed": true
   },
   "outputs": [],
   "source": [
    "data_features=np.load(\"final_embeddings_top.npy\")\n"
   ]
  },
  {
   "cell_type": "code",
   "execution_count": 3,
   "metadata": {
    "collapsed": true
   },
   "outputs": [],
   "source": [
    "em500 =data_features[0:500]\n",
    "em1k =  data_features[0:1000]\n",
    "em2k = data_features[0:2000] \n",
    "em5k = data_features[0:5000] \n",
    "em10k =  data_features[0:10000]"
   ]
  },
  {
   "cell_type": "code",
   "execution_count": 4,
   "metadata": {
    "collapsed": true
   },
   "outputs": [],
   "source": [
    "em_dict = {'em500':em500,\n",
    "           'em1k':em1k,\n",
    "           'em2k':em2k,\n",
    "           'em5k':em5k,\n",
    "           'em10k':em10k}"
   ]
  },
  {
   "cell_type": "code",
   "execution_count": 5,
   "metadata": {},
   "outputs": [
    {
     "name": "stdout",
     "output_type": "stream",
     "text": [
      "Building search index and adding vectors to index\n",
      "[!] Saving the index to model3_em500_.index\n",
      "[!] Faiss building time = 0.285\n",
      "\n",
      "\n",
      "\n",
      "Building search index and adding vectors to index\n",
      "[!] Saving the index to model3_em1k_.index\n",
      "[!] Faiss building time = 0.621\n",
      "\n",
      "\n",
      "\n",
      "Building search index and adding vectors to index\n",
      "[!] Saving the index to model3_em2k_.index\n",
      "[!] Faiss building time = 0.846\n",
      "\n",
      "\n",
      "\n",
      "Building search index and adding vectors to index\n",
      "[!] Saving the index to model3_em5k_.index\n",
      "[!] Faiss building time = 3.039\n",
      "\n",
      "\n",
      "\n",
      "Building search index and adding vectors to index\n",
      "[!] Saving the index to model3_em10k_.index\n",
      "[!] Faiss building time = 6.364\n",
      "\n",
      "\n",
      "\n"
     ]
    }
   ],
   "source": [
    " \n",
    "os.chdir('/recsys-data/Modelling/ashutosh/fiass_files')\n",
    "nlist = 100\n",
    "m=8\n",
    "k = 4 \n",
    "d=2048 \n",
    "for results in em_dict.keys():\n",
    "    print(\"Building search index and adding vectors to index\")\n",
    "    start = time.time()\n",
    "    quantizer = faiss.IndexFlatL2(d)\n",
    "     \n",
    "    index = faiss.IndexIVFPQ(quantizer, d, nlist,m,8)\n",
    "    \n",
    "    index.train(em_dict[results])\n",
    "     \n",
    "   \n",
    "    index.add(em_dict[results]) \n",
    "   \n",
    "    file_name = 'model3_'+results+'_'+'.index'\n",
    "    print(\"[!] Saving the index to\",file_name)\n",
    "    faiss.write_index(index,file_name)\n",
    "    print('[!] Faiss building time = %.3f\\n\\n\\n'%(time.time()-start))"
   ]
  },
  {
   "cell_type": "code",
   "execution_count": 7,
   "metadata": {},
   "outputs": [
    {
     "name": "stdout",
     "output_type": "stream",
     "text": [
      "model3_em500_.index\n",
      "Execution time for = 0.00067\n",
      "\n",
      "\n",
      "model3_em1k_.index\n",
      "Execution time for = 0.00059\n",
      "\n",
      "\n",
      "model3_em2k_.index\n",
      "Execution time for = 0.00061\n",
      "\n",
      "\n",
      "model3_em5k_.index\n",
      "Execution time for = 0.00056\n",
      "\n",
      "\n",
      "model3_em10k_.index\n",
      "Execution time for = 0.00065\n",
      "\n",
      "\n"
     ]
    }
   ],
   "source": [
    " \n",
    "k=100\n",
    "xq=em500[2:3]\n",
    "for file in em_dict.keys():\n",
    "    print('model3_'+file+\"_\"+\".index\")\n",
    "    index=faiss.read_index('model3_'+file+\"_\"+\".index\")\n",
    "    start = time.time()\n",
    "    index.nprobe = 10 \n",
    "    D,I =index.search(xq, k)\n",
    "    print('Execution time for = %.5f\\n\\n'%(time.time()-start))"
   ]
  },
  {
   "cell_type": "code",
   "execution_count": 8,
   "metadata": {},
   "outputs": [
    {
     "name": "stdout",
     "output_type": "stream",
     "text": [
      "total 308M\r\n",
      "-rw-r--r-- 1 root root  79M Sep 12 05:55 em10k_.index\r\n",
      "-rw-r--r-- 1 root root 7.9M Sep 12 05:55 em1k_.index\r\n",
      "-rw-r--r-- 1 root root  16M Sep 12 05:55 em2k_.index\r\n",
      "-rw-r--r-- 1 root root 4.0M Sep 12 05:55 em500_.index\r\n",
      "-rw-r--r-- 1 root root  40M Sep 12 05:55 em5k_.index\r\n",
      "-rw-r--r-- 1 root root  79M Sep 12 05:59 model2_em10k_.index\r\n",
      "-rw-r--r-- 1 root root 8.7M Sep 12 05:59 model2_em1k_.index\r\n",
      "-rw-r--r-- 1 root root  17M Sep 12 05:59 model2_em2k_.index\r\n",
      "-rw-r--r-- 1 root root 4.7M Sep 12 05:59 model2_em500_.index\r\n",
      "-rw-r--r-- 1 root root  40M Sep 12 05:59 model2_em5k_.index\r\n",
      "-rw-r--r-- 1 root root 3.0M Sep 12 06:04 model3_em10k_.index\r\n",
      "-rw-r--r-- 1 root root 2.8M Sep 12 06:04 model3_em1k_.index\r\n",
      "-rw-r--r-- 1 root root 2.9M Sep 12 06:04 model3_em2k_.index\r\n",
      "-rw-r--r-- 1 root root 2.8M Sep 12 06:04 model3_em500_.index\r\n",
      "-rw-r--r-- 1 root root 2.9M Sep 12 06:04 model3_em5k_.index\r\n"
     ]
    }
   ],
   "source": [
    "!ls -lh"
   ]
  },
  {
   "cell_type": "code",
   "execution_count": null,
   "metadata": {
    "collapsed": true
   },
   "outputs": [],
   "source": []
  }
 ],
 "metadata": {
  "kernelspec": {
   "display_name": "Python 3",
   "language": "python",
   "name": "python3"
  },
  "language_info": {
   "codemirror_mode": {
    "name": "ipython",
    "version": 3
   },
   "file_extension": ".py",
   "mimetype": "text/x-python",
   "name": "python",
   "nbconvert_exporter": "python",
   "pygments_lexer": "ipython3",
   "version": "3.6.3"
  }
 },
 "nbformat": 4,
 "nbformat_minor": 2
}
