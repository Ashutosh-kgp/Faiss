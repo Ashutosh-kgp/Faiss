{
 "cells": [
  {
   "cell_type": "code",
   "execution_count": 1,
   "metadata": {
    "collapsed": true
   },
   "outputs": [],
   "source": [
    "import faiss"
   ]
  },
  {
   "cell_type": "code",
   "execution_count": 2,
   "metadata": {
    "collapsed": true
   },
   "outputs": [],
   "source": [
    "import numpy as np\n",
    "import time\n",
    "import os\n",
    "from collections import Counter"
   ]
  },
  {
   "cell_type": "code",
   "execution_count": 3,
   "metadata": {
    "collapsed": true
   },
   "outputs": [],
   "source": [
    "data_features=np.load(\"final_embeddings_top.npy\")\n"
   ]
  },
  {
   "cell_type": "code",
   "execution_count": 4,
   "metadata": {
    "collapsed": true
   },
   "outputs": [],
   "source": [
    "em500 =data_features[0:500]\n",
    "em1k =  data_features[0:1000]\n",
    "em2k = data_features[0:2000] \n",
    "em5k = data_features[0:5000] \n",
    "em10k =  data_features[0:10000]"
   ]
  },
  {
   "cell_type": "code",
   "execution_count": 5,
   "metadata": {
    "collapsed": true
   },
   "outputs": [],
   "source": [
    "em_dict = {'em500':em500,\n",
    "           'em1k':em1k,\n",
    "           'em2k':em2k,\n",
    "           'em5k':em5k,\n",
    "           'em10k':em10k}"
   ]
  },
  {
   "cell_type": "code",
   "execution_count": 6,
   "metadata": {},
   "outputs": [
    {
     "name": "stdout",
     "output_type": "stream",
     "text": [
      "[!] Done extracting features, building search index\n",
      "True\n",
      "[!] Add vectors to index\n",
      "('[!] Saving the index to', 'em10k_.index')\n",
      "[!] Faiss building time = 0.464\n",
      "\n",
      "\n",
      "\n",
      "[!] Done extracting features, building search index\n",
      "True\n",
      "[!] Add vectors to index\n",
      "('[!] Saving the index to', 'em1k_.index')\n",
      "[!] Faiss building time = 0.065\n",
      "\n",
      "\n",
      "\n",
      "[!] Done extracting features, building search index\n",
      "True\n",
      "[!] Add vectors to index\n",
      "('[!] Saving the index to', 'em2k_.index')\n",
      "[!] Faiss building time = 0.133\n",
      "\n",
      "\n",
      "\n",
      "[!] Done extracting features, building search index\n",
      "True\n",
      "[!] Add vectors to index\n",
      "('[!] Saving the index to', 'em5k_.index')\n",
      "[!] Faiss building time = 0.549\n",
      "\n",
      "\n",
      "\n",
      "[!] Done extracting features, building search index\n",
      "True\n",
      "[!] Add vectors to index\n",
      "('[!] Saving the index to', 'em500_.index')\n",
      "[!] Faiss building time = 0.006\n",
      "\n",
      "\n",
      "\n"
     ]
    }
   ],
   "source": [
    "d=2048\n",
    "os.chdir('/recsys-data/Modelling/ashutosh/fiass_files')\n",
    "k=100\n",
    "import time\n",
    "for results in em_dict.keys():\n",
    "    print(\"[!] Done extracting features, building search index\")\n",
    "    start = time.time()\n",
    "    index = faiss.IndexFlatL2(d) \n",
    "    print(index.is_trained)\n",
    "    print(\"[!] Add vectors to index\")\n",
    "     \n",
    "    index.add(em_dict[results])\n",
    "    \n",
    "    file_name = results+'_'+'.index'\n",
    "    print(\"[!] Saving the index to\",file_name)\n",
    "    faiss.write_index(index,file_name)\n",
    "    print('[!] Faiss building time = %.3f\\n\\n\\n'%(time.time()-start))"
   ]
  },
  {
   "cell_type": "code",
   "execution_count": 7,
   "metadata": {},
   "outputs": [
    {
     "name": "stdout",
     "output_type": "stream",
     "text": [
      "em10k_.index\n",
      "Execution time = 0.03103\n",
      "\n",
      "\n",
      "em1k_.index\n",
      "Execution time = 0.00925\n",
      "\n",
      "\n",
      "em2k_.index\n",
      "Execution time = 0.00260\n",
      "\n",
      "\n",
      "em5k_.index\n",
      "Execution time = 0.00661\n",
      "\n",
      "\n",
      "em500_.index\n",
      "Execution time = 0.00047\n",
      "\n",
      "\n"
     ]
    }
   ],
   "source": [
    "index=faiss.read_index(\"em500_.index\")\n",
    "k=4\n",
    "xq=em500[2:3]\n",
    "for file in em_dict.keys():\n",
    "    print(file+\"_\"+\".index\")\n",
    "    index=faiss.read_index(file+\"_\"+\".index\")\n",
    "    start = time.time()\n",
    "    D,I =index.search(xq, k)\n",
    "#     print (I)\n",
    "#     print (D)\n",
    "    print('Execution time = %.5f\\n\\n'%(time.time()-start))"
   ]
  },
  {
   "cell_type": "code",
   "execution_count": null,
   "metadata": {
    "collapsed": true
   },
   "outputs": [],
   "source": [
    "!ls -lh"
   ]
  },
  {
   "cell_type": "code",
   "execution_count": 3,
   "metadata": {},
   "outputs": [
    {
     "ename": "NameError",
     "evalue": "name 'np' is not defined",
     "output_type": "error",
     "traceback": [
      "\u001b[0;31m---------------------------------------------------------------------------\u001b[0m",
      "\u001b[0;31mNameError\u001b[0m                                 Traceback (most recent call last)",
      "\u001b[0;32m<ipython-input-3-5fab6ed425fe>\u001b[0m in \u001b[0;36m<module>\u001b[0;34m()\u001b[0m\n\u001b[0;32m----> 1\u001b[0;31m \u001b[0mprint\u001b[0m\u001b[0;34m(\u001b[0m\u001b[0mnp\u001b[0m\u001b[0;34m.\u001b[0m\u001b[0maverage\u001b[0m\u001b[0;34m(\u001b[0m\u001b[0macc_1\u001b[0m\u001b[0;34m)\u001b[0m\u001b[0;34m)\u001b[0m\u001b[0;34m\u001b[0m\u001b[0m\n\u001b[0m\u001b[1;32m      2\u001b[0m \u001b[0;34m\u001b[0m\u001b[0m\n",
      "\u001b[0;31mNameError\u001b[0m: name 'np' is not defined"
     ]
    }
   ],
   "source": [
    "print(np.average(acc_1))\n",
    " "
   ]
  },
  {
   "cell_type": "code",
   "execution_count": null,
   "metadata": {
    "collapsed": true
   },
   "outputs": [],
   "source": []
  }
 ],
 "metadata": {
  "kernelspec": {
   "display_name": "Python 3",
   "language": "python",
   "name": "python3"
  },
  "language_info": {
   "codemirror_mode": {
    "name": "ipython",
    "version": 3
   },
   "file_extension": ".py",
   "mimetype": "text/x-python",
   "name": "python",
   "nbconvert_exporter": "python",
   "pygments_lexer": "ipython3",
   "version": "3.6.3"
  }
 },
 "nbformat": 4,
 "nbformat_minor": 2
}
